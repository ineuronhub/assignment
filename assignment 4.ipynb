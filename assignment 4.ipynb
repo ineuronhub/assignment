{
  "metadata": {
    "language_info": {
      "codemirror_mode": {
        "name": "python",
        "version": 3
      },
      "file_extension": ".py",
      "mimetype": "text/x-python",
      "name": "python",
      "nbconvert_exporter": "python",
      "pygments_lexer": "ipython3",
      "version": "3.8"
    },
    "kernelspec": {
      "name": "python",
      "display_name": "Python (Pyodide)",
      "language": "python"
    }
  },
  "nbformat_minor": 4,
  "nbformat": 4,
  "cells": [
    {
      "cell_type": "code",
      "source": "1. It is a empty list []",
      "metadata": {},
      "execution_count": null,
      "outputs": []
    },
    {
      "cell_type": "code",
      "source": "2.spam[2] = 'hello'",
      "metadata": {},
      "execution_count": null,
      "outputs": []
    },
    {
      "cell_type": "code",
      "source": "3.'d'",
      "metadata": {},
      "execution_count": null,
      "outputs": []
    },
    {
      "cell_type": "code",
      "source": "4.'d'",
      "metadata": {},
      "execution_count": null,
      "outputs": []
    },
    {
      "cell_type": "code",
      "source": "5.['a', 'b']",
      "metadata": {},
      "execution_count": null,
      "outputs": []
    },
    {
      "cell_type": "code",
      "source": "6.1",
      "metadata": {},
      "execution_count": null,
      "outputs": []
    },
    {
      "cell_type": "code",
      "source": "7.bacon=[3.14, 'cat', 11, 'cat', True, 99]",
      "metadata": {},
      "execution_count": null,
      "outputs": []
    },
    {
      "cell_type": "code",
      "source": "8.[3.14, 11, 'cat', True]",
      "metadata": {},
      "execution_count": null,
      "outputs": []
    },
    {
      "cell_type": "code",
      "source": "9.List concatenation operator is +.\nlist replication operator is *.",
      "metadata": {},
      "execution_count": null,
      "outputs": []
    },
    {
      "cell_type": "code",
      "source": "10.The append() method adds an element to the end of a list.we can insert a single item in the list data time with the append().\n2.we can insert one single item at a desired item at a desired location by using the method insert()",
      "metadata": {},
      "execution_count": null,
      "outputs": []
    },
    {
      "cell_type": "code",
      "source": "11. list.remove(item)\n    list.pop()",
      "metadata": {},
      "execution_count": null,
      "outputs": []
    },
    {
      "cell_type": "code",
      "source": "13.List are written with square brackets[].\n   Tuples are written in round brackets().\n   List allow us to add new items.\n   tuple does not allow us to add new items.\n   list are homogeneous data type.\n   tuple are heterogeneous data type.\n   list are mutable.\n   tuple are immutable",
      "metadata": {},
      "execution_count": null,
      "outputs": []
    },
    {
      "cell_type": "code",
      "source": "14.tuple(42)",
      "metadata": {},
      "execution_count": null,
      "outputs": []
    },
    {
      "cell_type": "code",
      "source": "15.def convert(list):\n    return tuple(list)\nlist = [1, 2, 3, 4]\nprint(convert(list))\n\n",
      "metadata": {
        "trusted": true
      },
      "execution_count": 7,
      "outputs": [
        {
          "name": "stdout",
          "text": "(1, 2, 3, 4)\n",
          "output_type": "stream"
        }
      ]
    },
    {
      "cell_type": "code",
      "source": "a= [(1, 2), (3, 4), (5, 6)]\nresult = []\nfor i in a:\n    for j in i:\n        result.append(j)\nprint(result)",
      "metadata": {
        "trusted": true
      },
      "execution_count": 11,
      "outputs": [
        {
          "name": "stdout",
          "text": "[1, 2, 3, 4, 5, 6]\n",
          "output_type": "stream"
        }
      ]
    },
    {
      "cell_type": "code",
      "source": "16.Variable is not a list itself, even if it contains a reference to a list.\ne.g.fruits=[\"apple\", \"mango\", \"orange\"]\nHere, fruits is a variable that contains a list type value.\nBut it doesn't mean that, fruits is a list itself. As it is just a name of list.",
      "metadata": {},
      "execution_count": null,
      "outputs": []
    },
    {
      "cell_type": "code",
      "source": "17. copy.copy()means it take all the elements from list\ne.g.  a=[1,2,3,4]\n      b=[5,6,7,8]\n      b=copy.copy(a)\n      a[2]=100\n      a\n      b\nwhen we change a[2]=100 then the output is [1,2,100,4]\nand when we print b then output is[1,2,100,4] it means that it take all the elements ",
      "metadata": {},
      "execution_count": null,
      "outputs": []
    },
    {
      "cell_type": "code",
      "source": "when we use deep.copy() operation first we need to import copy\nThe changeable values are not copy in another list every values are store in seperate location\ne.g.import copy\n    a=[1,2,3,4]\n    b=copy.deepcopy(a)\n    a[2]=100\n    a\n    b\nwhen we change a[2]=100 then the output is [1,2,100,4]\nand when we print b then output is[1,2,3,4]",
      "metadata": {},
      "execution_count": null,
      "outputs": []
    }
  ]
}